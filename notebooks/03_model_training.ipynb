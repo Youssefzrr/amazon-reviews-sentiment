{
 "cells": [
  {
   "cell_type": "code",
   "execution_count": 21,
   "id": "d9699ba7-3b34-4d71-8d0d-f2ed3488fa44",
   "metadata": {},
   "outputs": [],
   "source": [
    "import numpy as np\n",
    "import pandas as pd\n",
    "import matplotlib.pyplot as plt\n",
    "from itertools import cycle\n",
    "from collections import Counter\n",
    "\n",
    "from sklearn.preprocessing import label_binarize\n",
    "from sklearn.feature_extraction.text import TfidfVectorizer\n",
    "from sklearn.model_selection import train_test_split\n",
    "from sklearn.multiclass import OneVsRestClassifier\n",
    "from sklearn.svm import SVC\n",
    "from sklearn.ensemble import RandomForestClassifier\n",
    "from sklearn.linear_model import LogisticRegression\n",
    "from sklearn.tree import DecisionTreeClassifier\n",
    "from sklearn.neighbors import KNeighborsClassifier\n",
    "from sklearn.naive_bayes import BernoulliNB\n",
    "from sklearn.model_selection import GridSearchCV\n",
    "from sklearn.model_selection import cross_val_score\n",
    "from sklearn.metrics import roc_curve, auc, classification_report, confusion_matrix\n",
    "\n",
    "from scipy.interpolate import interp1d\n",
    "from imblearn.over_sampling import SMOTE"
   ]
  },
  {
   "cell_type": "code",
   "execution_count": 7,
   "id": "9c7be3ff-261f-4c39-9160-b092b140b2a5",
   "metadata": {},
   "outputs": [],
   "source": [
    "reviews = pd.read_csv(\"preprocessed_data.csv\")"
   ]
  },
  {
   "cell_type": "code",
   "execution_count": 8,
   "id": "51685336-bffa-450b-8380-0ee4f67b3ab8",
   "metadata": {},
   "outputs": [
    {
     "data": {
      "text/html": [
       "<div>\n",
       "<style scoped>\n",
       "    .dataframe tbody tr th:only-of-type {\n",
       "        vertical-align: middle;\n",
       "    }\n",
       "\n",
       "    .dataframe tbody tr th {\n",
       "        vertical-align: top;\n",
       "    }\n",
       "\n",
       "    .dataframe thead th {\n",
       "        text-align: right;\n",
       "    }\n",
       "</style>\n",
       "<table border=\"1\" class=\"dataframe\">\n",
       "  <thead>\n",
       "    <tr style=\"text-align: right;\">\n",
       "      <th></th>\n",
       "      <th>reviewerID</th>\n",
       "      <th>asin</th>\n",
       "      <th>reviewerName</th>\n",
       "      <th>overall</th>\n",
       "      <th>unixReviewTime</th>\n",
       "      <th>reviews</th>\n",
       "      <th>Sentiment</th>\n",
       "      <th>year</th>\n",
       "      <th>month</th>\n",
       "      <th>day</th>\n",
       "      <th>helpful_review</th>\n",
       "      <th>cleaned_reviewText</th>\n",
       "    </tr>\n",
       "  </thead>\n",
       "  <tbody>\n",
       "    <tr>\n",
       "      <th>0</th>\n",
       "      <td>A2IBPI20UZIR0U</td>\n",
       "      <td>1384719342</td>\n",
       "      <td>cassandra tu \"Yeah, well, that's just like, u...</td>\n",
       "      <td>5</td>\n",
       "      <td>1393545600</td>\n",
       "      <td>Not much to write about here, but it does exac...</td>\n",
       "      <td>2</td>\n",
       "      <td>2014</td>\n",
       "      <td>2</td>\n",
       "      <td>28</td>\n",
       "      <td>0.00</td>\n",
       "      <td>much write exactly supposed filters pop sounds...</td>\n",
       "    </tr>\n",
       "    <tr>\n",
       "      <th>1</th>\n",
       "      <td>A14VAT5EAX3D9S</td>\n",
       "      <td>1384719342</td>\n",
       "      <td>Jake</td>\n",
       "      <td>5</td>\n",
       "      <td>1363392000</td>\n",
       "      <td>The product does exactly as it should and is q...</td>\n",
       "      <td>2</td>\n",
       "      <td>2013</td>\n",
       "      <td>3</td>\n",
       "      <td>16</td>\n",
       "      <td>0.93</td>\n",
       "      <td>product exactly quite affordablei realized dou...</td>\n",
       "    </tr>\n",
       "    <tr>\n",
       "      <th>2</th>\n",
       "      <td>A195EZSQDW3E21</td>\n",
       "      <td>1384719342</td>\n",
       "      <td>Rick Bennette \"Rick Bennette\"</td>\n",
       "      <td>5</td>\n",
       "      <td>1377648000</td>\n",
       "      <td>The primary job of this device is to block the...</td>\n",
       "      <td>2</td>\n",
       "      <td>2013</td>\n",
       "      <td>8</td>\n",
       "      <td>28</td>\n",
       "      <td>1.00</td>\n",
       "      <td>primary job device block breath would otherwis...</td>\n",
       "    </tr>\n",
       "    <tr>\n",
       "      <th>3</th>\n",
       "      <td>A2C00NNG1ZQQG2</td>\n",
       "      <td>1384719342</td>\n",
       "      <td>RustyBill \"Sunday Rocker\"</td>\n",
       "      <td>5</td>\n",
       "      <td>1392336000</td>\n",
       "      <td>Nice windscreen protects my MXL mic and preven...</td>\n",
       "      <td>2</td>\n",
       "      <td>2014</td>\n",
       "      <td>2</td>\n",
       "      <td>14</td>\n",
       "      <td>0.00</td>\n",
       "      <td>nice windscreen protects mxl mic prevents pops...</td>\n",
       "    </tr>\n",
       "    <tr>\n",
       "      <th>4</th>\n",
       "      <td>A94QU4C90B1AX</td>\n",
       "      <td>1384719342</td>\n",
       "      <td>SEAN MASLANKA</td>\n",
       "      <td>5</td>\n",
       "      <td>1392940800</td>\n",
       "      <td>This pop filter is great. It looks and perform...</td>\n",
       "      <td>2</td>\n",
       "      <td>2014</td>\n",
       "      <td>2</td>\n",
       "      <td>21</td>\n",
       "      <td>0.00</td>\n",
       "      <td>pop filter great looks performs like studio fi...</td>\n",
       "    </tr>\n",
       "  </tbody>\n",
       "</table>\n",
       "</div>"
      ],
      "text/plain": [
       "       reviewerID        asin  \\\n",
       "0  A2IBPI20UZIR0U  1384719342   \n",
       "1  A14VAT5EAX3D9S  1384719342   \n",
       "2  A195EZSQDW3E21  1384719342   \n",
       "3  A2C00NNG1ZQQG2  1384719342   \n",
       "4   A94QU4C90B1AX  1384719342   \n",
       "\n",
       "                                       reviewerName  overall  unixReviewTime  \\\n",
       "0  cassandra tu \"Yeah, well, that's just like, u...        5      1393545600   \n",
       "1                                              Jake        5      1363392000   \n",
       "2                     Rick Bennette \"Rick Bennette\"        5      1377648000   \n",
       "3                         RustyBill \"Sunday Rocker\"        5      1392336000   \n",
       "4                                     SEAN MASLANKA        5      1392940800   \n",
       "\n",
       "                                             reviews  Sentiment  year  month  \\\n",
       "0  Not much to write about here, but it does exac...          2  2014      2   \n",
       "1  The product does exactly as it should and is q...          2  2013      3   \n",
       "2  The primary job of this device is to block the...          2  2013      8   \n",
       "3  Nice windscreen protects my MXL mic and preven...          2  2014      2   \n",
       "4  This pop filter is great. It looks and perform...          2  2014      2   \n",
       "\n",
       "   day  helpful_review                                 cleaned_reviewText  \n",
       "0   28            0.00  much write exactly supposed filters pop sounds...  \n",
       "1   16            0.93  product exactly quite affordablei realized dou...  \n",
       "2   28            1.00  primary job device block breath would otherwis...  \n",
       "3   14            0.00  nice windscreen protects mxl mic prevents pops...  \n",
       "4   21            0.00  pop filter great looks performs like studio fi...  "
      ]
     },
     "execution_count": 8,
     "metadata": {},
     "output_type": "execute_result"
    }
   ],
   "source": [
    "reviews.head()"
   ]
  },
  {
   "cell_type": "code",
   "execution_count": 9,
   "id": "bfa4dc33-efe2-452a-b891-2a42db668e91",
   "metadata": {},
   "outputs": [
    {
     "data": {
      "text/html": [
       "<div>\n",
       "<style scoped>\n",
       "    .dataframe tbody tr th:only-of-type {\n",
       "        vertical-align: middle;\n",
       "    }\n",
       "\n",
       "    .dataframe tbody tr th {\n",
       "        vertical-align: top;\n",
       "    }\n",
       "\n",
       "    .dataframe thead th {\n",
       "        text-align: right;\n",
       "    }\n",
       "</style>\n",
       "<table border=\"1\" class=\"dataframe\">\n",
       "  <thead>\n",
       "    <tr style=\"text-align: right;\">\n",
       "      <th></th>\n",
       "      <th>reviews</th>\n",
       "    </tr>\n",
       "  </thead>\n",
       "  <tbody>\n",
       "    <tr>\n",
       "      <th>0</th>\n",
       "      <td>Not much to write about here, but it does exac...</td>\n",
       "    </tr>\n",
       "    <tr>\n",
       "      <th>1</th>\n",
       "      <td>The product does exactly as it should and is q...</td>\n",
       "    </tr>\n",
       "    <tr>\n",
       "      <th>2</th>\n",
       "      <td>The primary job of this device is to block the...</td>\n",
       "    </tr>\n",
       "    <tr>\n",
       "      <th>3</th>\n",
       "      <td>Nice windscreen protects my MXL mic and preven...</td>\n",
       "    </tr>\n",
       "    <tr>\n",
       "      <th>4</th>\n",
       "      <td>This pop filter is great. It looks and perform...</td>\n",
       "    </tr>\n",
       "  </tbody>\n",
       "</table>\n",
       "</div>"
      ],
      "text/plain": [
       "                                             reviews\n",
       "0  Not much to write about here, but it does exac...\n",
       "1  The product does exactly as it should and is q...\n",
       "2  The primary job of this device is to block the...\n",
       "3  Nice windscreen protects my MXL mic and preven...\n",
       "4  This pop filter is great. It looks and perform..."
      ]
     },
     "execution_count": 9,
     "metadata": {},
     "output_type": "execute_result"
    }
   ],
   "source": [
    "review_features = reviews.copy()\n",
    "review_features = review_features[['reviews']].reset_index(drop=True)\n",
    "review_features.head()"
   ]
  },
  {
   "cell_type": "code",
   "execution_count": 10,
   "id": "66b2b43f-29b9-40fc-bfa8-234c5bef2a53",
   "metadata": {},
   "outputs": [
    {
     "data": {
      "text/plain": [
       "(10261, 5000)"
      ]
     },
     "execution_count": 10,
     "metadata": {},
     "output_type": "execute_result"
    }
   ],
   "source": [
    "tfidf_vectorizer = TfidfVectorizer(max_features = 5000, ngram_range = (2,2))\n",
    "# TF-IDF feature matrix\n",
    "X = tfidf_vectorizer.fit_transform(review_features['reviews'])\n",
    "X.shape"
   ]
  },
  {
   "cell_type": "code",
   "execution_count": 11,
   "id": "df18e19c-3135-490d-8d4a-8219515c92df",
   "metadata": {},
   "outputs": [
    {
     "data": {
      "text/plain": [
       "(10261,)"
      ]
     },
     "execution_count": 11,
     "metadata": {},
     "output_type": "execute_result"
    }
   ],
   "source": [
    "#Getting the target variable(encoded)\n",
    "y = reviews['Sentiment']\n",
    "y.shape"
   ]
  },
  {
   "cell_type": "code",
   "execution_count": 12,
   "id": "17352e8e-2ab4-4710-8831-c8607811900c",
   "metadata": {},
   "outputs": [
    {
     "name": "stdout",
     "output_type": "stream",
     "text": [
      "Original dataset shape : Counter({2: 9022, 1: 772, 0: 467})\n",
      "Resampled dataset shape Counter({2: 9022, 1: 9022, 0: 9022})\n"
     ]
    }
   ],
   "source": [
    "print(f'Original dataset shape : {Counter(y)}')\n",
    "\n",
    "smote = SMOTE(random_state = 42)\n",
    "X_resampled, y_resampled = smote.fit_resample(X, y)\n",
    "\n",
    "print(f'Resampled dataset shape {Counter(y_resampled)}')"
   ]
  },
  {
   "cell_type": "code",
   "execution_count": 13,
   "id": "8adbfc9b-fea2-484e-89eb-612e03c4ea6e",
   "metadata": {},
   "outputs": [],
   "source": [
    "## Splitting the dataset into Train and Test\n",
    "X_train, X_test, y_train, y_test = train_test_split(X_resampled, y_resampled, test_size = 0.2, random_state=0)"
   ]
  },
  {
   "cell_type": "code",
   "execution_count": 14,
   "id": "0e93b3b4-0e75-452a-8261-a43eb8acc384",
   "metadata": {},
   "outputs": [],
   "source": [
    "def plot_confusion_matrix(cm, classes,\n",
    "                          normalize = False,\n",
    "                          title = 'Confusion matrix',\n",
    "                          cmap = plt.cm.Purples):\n",
    "    \"\"\"\n",
    "    This function prints and plots the confusion matrix.\n",
    "    \"\"\"\n",
    "    \n",
    "    plt.imshow(cm, interpolation='nearest', cmap=cmap)\n",
    "    plt.title(title)\n",
    "    plt.colorbar()\n",
    "    tick_marks = np.arange(len(classes))\n",
    "    plt.xticks(tick_marks, classes, rotation=45)\n",
    "    plt.yticks(tick_marks, classes)\n",
    "\n",
    "    if normalize:\n",
    "        cm = cm.astype('float') / cm.sum(axis=1)[:, np.newaxis]\n",
    "        print(\"Normalized confusion matrix\")\n",
    "    else:\n",
    "        print('Confusion matrix, without normalization')\n",
    "\n",
    "    thresh = cm.max() / 2.\n",
    "    for i in range (cm.shape[0]):\n",
    "        for j in range (cm.shape[1]):\n",
    "            plt.text(j, i, cm[i, j],\n",
    "                 horizontalalignment=\"center\",\n",
    "                 color=\"white\" if cm[i, j] > thresh else \"black\")\n",
    "\n",
    "    plt.tight_layout()\n",
    "    plt.ylabel('True label')\n",
    "    plt.xlabel('Predicted label')"
   ]
  },
  {
   "cell_type": "code",
   "execution_count": 15,
   "id": "e3d104f0-032e-4337-be89-c4d01ce9737b",
   "metadata": {},
   "outputs": [
    {
     "name": "stdout",
     "output_type": "stream",
     "text": [
      "Logistic Regression Test Accuracy: 0.8827600213343052\n",
      "Decision Tree Test Accuracy: 0.8214584389134689\n",
      "KNN Test Accuracy: 0.8792515341149585\n",
      "SVC Test Accuracy: 0.8796413976627168\n",
      "Naive Bayes Test Accuracy: 0.779063530296042\n",
      "Random Forest Test Accuracy: 0.881200567143272\n"
     ]
    }
   ],
   "source": [
    "#creating the objects\n",
    "logreg = LogisticRegression(random_state=0)\n",
    "dt = DecisionTreeClassifier()\n",
    "knn = KNeighborsClassifier()\n",
    "svc = SVC()\n",
    "nb = BernoulliNB()\n",
    "rf = RandomForestClassifier()\n",
    "cv_dict = {0: 'Logistic Regression', 1: 'Decision Tree', 2:'KNN', 3:'SVC', 4:'Naive Bayes', 5: 'Random Forest'}\n",
    "cv_models = [logreg, dt, knn, svc, nb, rf]\n",
    "\n",
    "\n",
    "for i,model in enumerate(cv_models):\n",
    "    print(\"{} Test Accuracy: {}\".format(cv_dict[i],cross_val_score(model, X, y, cv = 10, scoring = 'accuracy').mean()))"
   ]
  },
  {
   "cell_type": "code",
   "execution_count": 18,
   "id": "6d0008a0-f5a6-4041-9820-1f8e9bf1fe9d",
   "metadata": {},
   "outputs": [
    {
     "name": "stderr",
     "output_type": "stream",
     "text": [
      "/opt/conda/lib/python3.11/site-packages/sklearn/model_selection/_validation.py:528: FitFailedWarning: \n",
      "250 fits failed out of a total of 500.\n",
      "The score on these train-test partitions for these parameters will be set to nan.\n",
      "If these failures are not expected, you can try to debug them by setting error_score='raise'.\n",
      "\n",
      "Below are more details about the failures:\n",
      "--------------------------------------------------------------------------------\n",
      "250 fits failed with the following error:\n",
      "Traceback (most recent call last):\n",
      "  File \"/opt/conda/lib/python3.11/site-packages/sklearn/model_selection/_validation.py\", line 866, in _fit_and_score\n",
      "    estimator.fit(X_train, y_train, **fit_params)\n",
      "  File \"/opt/conda/lib/python3.11/site-packages/sklearn/base.py\", line 1389, in wrapper\n",
      "    return fit_method(estimator, *args, **kwargs)\n",
      "           ^^^^^^^^^^^^^^^^^^^^^^^^^^^^^^^^^^^^^^\n",
      "  File \"/opt/conda/lib/python3.11/site-packages/sklearn/linear_model/_logistic.py\", line 1193, in fit\n",
      "    solver = _check_solver(self.solver, self.penalty, self.dual)\n",
      "             ^^^^^^^^^^^^^^^^^^^^^^^^^^^^^^^^^^^^^^^^^^^^^^^^^^^\n",
      "  File \"/opt/conda/lib/python3.11/site-packages/sklearn/linear_model/_logistic.py\", line 63, in _check_solver\n",
      "    raise ValueError(\n",
      "ValueError: Solver lbfgs supports only 'l2' or None penalties, got l1 penalty.\n",
      "\n",
      "  warnings.warn(some_fits_failed_message, FitFailedWarning)\n",
      "/opt/conda/lib/python3.11/site-packages/sklearn/model_selection/_search.py:1108: UserWarning: One or more of the test scores are non-finite: [       nan 0.33581193        nan 0.33747458        nan 0.35645676\n",
      "        nan 0.42905966        nan 0.52771095        nan 0.63342861\n",
      "        nan 0.7091722         nan 0.75309432        nan 0.77761904\n",
      "        nan 0.79138223        nan 0.80223547        nan 0.81535222\n",
      "        nan 0.82223394        nan 0.83096294        nan 0.83936852\n",
      "        nan 0.84915973        nan 0.86098299        nan 0.87303726\n",
      "        nan 0.88758566        nan 0.89899345        nan 0.91155582\n",
      "        nan 0.9232868         nan 0.93224665        nan 0.94171458\n",
      "        nan 0.94965836        nan 0.95510825        nan 0.95875691\n",
      "        nan 0.96088133        nan 0.96263637        nan 0.96429901\n",
      "        nan 0.96522275        nan 0.96577697        nan 0.96619258\n",
      "        nan 0.96674684        nan 0.96748584        nan 0.96799379\n",
      "        nan 0.96928694        nan 0.9697026         nan 0.96970265\n",
      "        nan 0.97159627        nan 0.97122677        nan 0.97168862\n",
      "        nan 0.97279698        nan 0.97284323        nan 0.9728894\n",
      "        nan 0.97335129        nan 0.97367459        nan 0.973536\n",
      "        nan 0.97381312        nan 0.97362833]\n",
      "  warnings.warn(\n"
     ]
    },
    {
     "name": "stdout",
     "output_type": "stream",
     "text": [
      "LogisticRegression(C=6866.488450042998, random_state=0)\n",
      "The mean accuracy of the model is: 0.981159955670484\n"
     ]
    }
   ],
   "source": [
    "param_grid = {'C': np.logspace(-4, 4, 50),\n",
    "             'penalty':['l1', 'l2']}\n",
    "clf = GridSearchCV(LogisticRegression(random_state = 0), param_grid, cv = 5, verbose = 0,n_jobs = -1)\n",
    "best_model = clf.fit(X_train,y_train)\n",
    "print(best_model.best_estimator_)\n",
    "print(\"The mean accuracy of the model is:\", best_model.score(X_test,y_test))"
   ]
  },
  {
   "cell_type": "code",
   "execution_count": 19,
   "id": "75c86298-9ae0-4f35-8965-3abfd250122b",
   "metadata": {},
   "outputs": [
    {
     "name": "stdout",
     "output_type": "stream",
     "text": [
      "Accuracy of logistic regression classifier on test set: 0.98\n"
     ]
    }
   ],
   "source": [
    "logreg = LogisticRegression(C = 6866.498, random_state = 0)\n",
    "logreg.fit(X_train, y_train)\n",
    "y_pred = logreg.predict(X_test)\n",
    "print('Accuracy of logistic regression classifier on test set: {:.2f}'.format(logreg.score(X_test, y_test)))"
   ]
  },
  {
   "cell_type": "code",
   "execution_count": 22,
   "id": "9311f239-7ad8-49ba-b25e-880179f2dfc1",
   "metadata": {},
   "outputs": [
    {
     "name": "stdout",
     "output_type": "stream",
     "text": [
      "Confusion matrix, without normalization\n"
     ]
    },
    {
     "data": {
      "image/png": "[encoded data removed]",
      "text/plain": [
       "<Figure size 640x480 with 2 Axes>"
      ]
     },
     "metadata": {},
     "output_type": "display_data"
    }
   ],
   "source": [
    "cm = confusion_matrix(y_test, y_pred)\n",
    "plot_confusion_matrix(cm, classes = ['Positive','Neutral','Negative'])"
   ]
  },
  {
   "cell_type": "code",
   "execution_count": 23,
   "id": "998fff9f-2ff4-4a3a-9aee-94c1be8640e4",
   "metadata": {},
   "outputs": [
    {
     "name": "stdout",
     "output_type": "stream",
     "text": [
      "Classification Report:\n",
      "               precision    recall  f1-score   support\n",
      "\n",
      "           0       0.99      1.00      0.99      1852\n",
      "           1       0.96      1.00      0.98      1811\n",
      "           2       1.00      0.95      0.97      1751\n",
      "\n",
      "    accuracy                           0.98      5414\n",
      "   macro avg       0.98      0.98      0.98      5414\n",
      "weighted avg       0.98      0.98      0.98      5414\n",
      "\n"
     ]
    }
   ],
   "source": [
    "print(\"Classification Report:\\n\",classification_report(y_test, y_pred))"
   ]
  },
  {
   "cell_type": "code",
   "execution_count": 26,
   "id": "15ed7c2c-bcf1-4d50-97c7-9f3d6decbb95",
   "metadata": {},
   "outputs": [
    {
     "data": {
      "text/plain": [
       "['tfidf_vectorizer.pkl']"
      ]
     },
     "execution_count": 26,
     "metadata": {},
     "output_type": "execute_result"
    }
   ],
   "source": [
    "import joblib\n",
    "joblib.dump(logreg, \"data/models/sentiment_model.pkl\")\n",
    "joblib.dump(tfidf_vectorizer, \"data/models/tfidf_vectorizer.pkl\")"
   ]
  },
  {
   "cell_type": "code",
   "execution_count": null,
   "id": "e94a7c0e-99ed-49c9-a310-5de8169d1ead",
   "metadata": {},
   "outputs": [],
   "source": []
  }
 ],
 "metadata": {
  "kernelspec": {
   "display_name": "Python 3 (ipykernel)",
   "language": "python",
   "name": "python3"
  },
  "language_info": {
   "codemirror_mode": {
    "name": "ipython",
    "version": 3
   },
   "file_extension": ".py",
   "mimetype": "text/x-python",
   "name": "python",
   "nbconvert_exporter": "python",
   "pygments_lexer": "ipython3",
   "version": "3.11.6"
  }
 },
 "nbformat": 4,
 "nbformat_minor": 5
}
