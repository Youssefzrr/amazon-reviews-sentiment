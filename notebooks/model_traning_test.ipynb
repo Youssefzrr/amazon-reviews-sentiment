{
  "cells": [
    {
      "cell_type": "code",
      "source": [
        "import pandas as pd"
      ],
      "metadata": {
        "id": "RSzqCR_fxcxX"
      },
      "execution_count": null,
      "outputs": []
    },
    {
      "cell_type": "code",
      "source": [
        "df = pd.read_json(\"Data.json\", lines=True)"
      ],
      "metadata": {
        "id": "u-PhmA4rxgc7"
      },
      "execution_count": null,
      "outputs": []
    },
    {
      "cell_type": "code",
      "source": [
        "# prompt: La classe cible (target) : (overall < 3 avis négatif ; overall = 3 avis neutre ; overall > 3 avis positif)\n",
        "# make funcuin and applie it\n",
        "\n",
        "def map_sentiment(overall):\n",
        "  if overall < 3:\n",
        "    return \"negatif\"\n",
        "  elif overall == 3:\n",
        "    return \"neutre\"\n",
        "  else:\n",
        "    return \"positif\"\n",
        "\n",
        "df['sentiment'] = df['overall'].apply(map_sentiment)\n",
        "\n",
        "print(df[['overall', 'sentiment']].head())"
      ],
      "metadata": {
        "colab": {
          "base_uri": "https://localhost:8080/"
        },
        "id": "7Zs-rj2Tx-6j",
        "outputId": "bd9d3f39-ef44-4cbe-8350-8a221ec3c784"
      },
      "execution_count": null,
      "outputs": [
        {
          "output_type": "stream",
          "name": "stdout",
          "text": [
            "   overall sentiment\n",
            "0        5   positif\n",
            "1        5   positif\n",
            "2        5   positif\n",
            "3        5   positif\n",
            "4        5   positif\n"
          ]
        }
      ]
    },
    {
      "source": [
        "import random\n",
        "positif_indices = df[df['sentiment'] == 'positif'].index\n",
        "\n",
        "indices_to_drop = random.sample(list(positif_indices), k=6900)\n",
        "\n",
        "df = df.drop(indices_to_drop)\n",
        "\n",
        "print(df['sentiment'].value_counts())"
      ],
      "cell_type": "code",
      "metadata": {
        "colab": {
          "base_uri": "https://localhost:8080/"
        },
        "id": "hIDdzK9gy-cr",
        "outputId": "23952ab9-0ebf-4e42-8a4d-b20934bf3327"
      },
      "execution_count": null,
      "outputs": [
        {
          "output_type": "stream",
          "name": "stdout",
          "text": [
            "sentiment\n",
            "positif    2122\n",
            "neutre      772\n",
            "negatif     467\n",
            "Name: count, dtype: int64\n"
          ]
        }
      ]
    },
    {
      "cell_type": "code",
      "source": [
        "\n",
        "df = df.drop(columns=['sentiment'])\n",
        "df.to_json(\"Data_cleaned.json\", orient='records', lines=True)\n",
        "\n",
        "print(\"DataFrame without 'sentiment' column:\")\n",
        "print(df.head())\n",
        "print(\"\\nCleaned data saved to Data_cleaned.json\")"
      ],
      "metadata": {
        "colab": {
          "base_uri": "https://localhost:8080/"
        },
        "id": "9kRHcjd8zPwu",
        "outputId": "d72b93df-22c5-4eb4-ccbc-b7e585cc7d7f"
      },
      "execution_count": null,
      "outputs": [
        {
          "output_type": "stream",
          "name": "stdout",
          "text": [
            "DataFrame without 'sentiment' column:\n",
            "        reviewerID        asin                   reviewerName helpful  \\\n",
            "2   A195EZSQDW3E21  1384719342  Rick Bennette \"Rick Bennette\"  [1, 1]   \n",
            "4    A94QU4C90B1AX  1384719342                  SEAN MASLANKA  [0, 0]   \n",
            "7    AJNFQI3YR6XJ5  B00004Y2UT              Fender Guy \"Rick\"  [0, 0]   \n",
            "10  A2NYK9KWFMJV4Y  B00004Y2UT    Mike Tarrani \"Jazz Drummer\"  [6, 6]   \n",
            "12  A2NIT6BKW11XJQ  B00005ML71                            Jai  [0, 0]   \n",
            "\n",
            "                                           reviewText  overall  \\\n",
            "2   The primary job of this device is to block the...        5   \n",
            "4   This pop filter is great. It looks and perform...        5   \n",
            "7   I now use this cable to run from the output of...        3   \n",
            "10  Monster makes a wide array of cables, includin...        5   \n",
            "12  If you are not use to using a large sustaining...        3   \n",
            "\n",
            "                                              summary  unixReviewTime  \\\n",
            "2                                It Does The Job Well      1377648000   \n",
            "4               No more pops when I record my vocals.      1392940800   \n",
            "7                  Didn't fit my 1996 Fender Strat...      1353024000   \n",
            "10  One of the best instrument cables within the b...      1334793600   \n",
            "12                         HAS TO GET USE TO THE SIZE      1384646400   \n",
            "\n",
            "     reviewTime  \n",
            "2   08 28, 2013  \n",
            "4   02 21, 2014  \n",
            "7   11 16, 2012  \n",
            "10  04 19, 2012  \n",
            "12  11 17, 2013  \n",
            "\n",
            "Cleaned data saved to Data_cleaned.json\n"
          ]
        }
      ]
    },
    {
      "cell_type": "code",
      "metadata": {
        "ExecuteTime": {
          "end_time": "2025-05-19T23:11:59.521517Z",
          "start_time": "2025-05-19T23:11:59.512398Z"
        },
        "id": "kmb0hLVS1_zs"
      },
      "source": [
        "from pyspark.sql import SparkSession\n",
        "from pyspark.sql.functions import *\n",
        "from pyspark.sql.types import *\n",
        "from pyspark.ml.feature import Tokenizer, StopWordsRemover, CountVectorizer, IDF\n",
        "from pyspark.ml.feature import StringIndexer, VectorAssembler\n",
        "from pyspark.ml import Pipeline\n",
        "from pyspark.ml.classification import LogisticRegression, RandomForestClassifier, NaiveBayes\n",
        "from pyspark.ml.evaluation import MulticlassClassificationEvaluator\n",
        "from pyspark.ml.tuning import CrossValidator, ParamGridBuilder\n",
        "import re"
      ],
      "outputs": [],
      "execution_count": null
    },
    {
      "cell_type": "code",
      "metadata": {
        "ExecuteTime": {
          "end_time": "2025-05-19T23:11:59.798634Z",
          "start_time": "2025-05-19T23:11:59.784591Z"
        },
        "id": "MmqfEQk_1_z2"
      },
      "source": [
        "# Initialize Spark Session with optimized settings\n",
        "spark = SparkSession.builder \\\n",
        "    .appName(\"Amazon Reviews Sentiment Analysis\") \\\n",
        "    .config(\"spark.driver.memory\", \"4g\") \\\n",
        "    .config(\"spark.executor.memory\", \"4g\") \\\n",
        "    .config(\"spark.python.worker.memory\", \"512m\") \\\n",
        "    .config(\"spark.python.worker.timeout\", \"600\") \\\n",
        "    .config(\"spark.network.timeout\", \"600s\") \\\n",
        "    .config(\"spark.executor.heartbeatInterval\", \"60s\") \\\n",
        "    .getOrCreate()"
      ],
      "outputs": [],
      "execution_count": null
    },
    {
      "cell_type": "code",
      "metadata": {
        "ExecuteTime": {
          "end_time": "2025-05-19T23:12:11.873905Z",
          "start_time": "2025-05-19T23:12:09.287971Z"
        },
        "id": "eC3qOfXu1_z2"
      },
      "source": [
        "# Load the data\n",
        "data_path = \"Data_cleaned.json\"\n",
        "reviews_df = spark.read.json(data_path)"
      ],
      "outputs": [],
      "execution_count": null
    },
    {
      "cell_type": "code",
      "metadata": {
        "ExecuteTime": {
          "end_time": "2025-05-19T23:12:11.908940Z",
          "start_time": "2025-05-19T23:12:11.885899Z"
        },
        "id": "YMMLeF5i1_z5"
      },
      "source": [
        "# Create sentiment label based on overall rating\n",
        "reviews_df = reviews_df.withColumn(\n",
        "    \"sentiment\",\n",
        "    when(col(\"overall\") < 3, 0)  # 0 for negative\n",
        "    .when(col(\"overall\") == 3, 1)  # 1 for neutral\n",
        "    .otherwise(2)  # 2 for positive\n",
        ")"
      ],
      "outputs": [],
      "execution_count": null
    },
    {
      "cell_type": "code",
      "metadata": {
        "ExecuteTime": {
          "end_time": "2025-05-19T23:12:11.998057Z",
          "start_time": "2025-05-19T23:12:11.935512Z"
        },
        "id": "A7aP0ca-1_z6"
      },
      "source": [
        "# Basic data cleaning\n",
        "reviews_df = reviews_df.filter(col(\"reviewText\").isNotNull())\n",
        "reviews_df = reviews_df.withColumn(\"reviewText\", regexp_replace(col(\"reviewText\"), \"[^a-zA-Z\\\\s]\", \" \"))\n",
        "reviews_df = reviews_df.withColumn(\"reviewText\", lower(col(\"reviewText\")))"
      ],
      "outputs": [],
      "execution_count": null
    },
    {
      "cell_type": "code",
      "metadata": {
        "ExecuteTime": {
          "end_time": "2025-05-19T23:12:12.138208Z",
          "start_time": "2025-05-19T23:12:12.030718Z"
        },
        "id": "-eZGZ_v_1_z6"
      },
      "source": [
        "# Split data into training, validation, and test sets (80%, 10%, 10%)\n",
        "train_df, temp_df = reviews_df.randomSplit([0.8, 0.2], seed=42)\n",
        "val_df, test_df = temp_df.randomSplit([0.5, 0.5], seed=42)"
      ],
      "outputs": [],
      "execution_count": null
    },
    {
      "cell_type": "code",
      "metadata": {
        "ExecuteTime": {
          "end_time": "2025-05-19T23:12:12.375488Z",
          "start_time": "2025-05-19T23:12:12.238967Z"
        },
        "id": "ILz5vqj21_z7"
      },
      "source": [
        "# Create ML Pipeline for text processing\n",
        "tokenizer = Tokenizer(inputCol=\"reviewText\", outputCol=\"words\")\n",
        "remover = StopWordsRemover(inputCol=\"words\", outputCol=\"filtered_words\")\n",
        "cv = CountVectorizer(inputCol=\"filtered_words\", outputCol=\"raw_features\", minDF=2.0)\n",
        "idf = IDF(inputCol=\"raw_features\", outputCol=\"features\", minDocFreq=2)\n",
        "\n",
        "# Model training pipeline\n",
        "sentiment_indexer = StringIndexer(inputCol=\"sentiment\", outputCol=\"label\")\n",
        "\n",
        "# Create models with balanced class weights\n",
        "lr = LogisticRegression(maxIter=20, regParam=0.3, elasticNetParam=0)\n",
        "rf = RandomForestClassifier(numTrees=100, maxDepth=5, seed=42, minInstancesPerNode=1)\n",
        "nb = NaiveBayes(smoothing=1.0, modelType=\"multinomial\")"
      ],
      "outputs": [],
      "execution_count": null
    },
    {
      "cell_type": "code",
      "metadata": {
        "ExecuteTime": {
          "end_time": "2025-05-19T23:12:12.498290Z",
          "start_time": "2025-05-19T23:12:12.384488Z"
        },
        "id": "ak03A7NS1_z8"
      },
      "source": [
        "# Create pipelines for each model\n",
        "lr_pipeline = Pipeline(stages=[tokenizer, remover, cv, idf, sentiment_indexer, lr])\n",
        "rf_pipeline = Pipeline(stages=[tokenizer, remover, cv, idf, sentiment_indexer, rf])\n",
        "nb_pipeline = Pipeline(stages=[tokenizer, remover, cv, idf, sentiment_indexer, nb])"
      ],
      "outputs": [],
      "execution_count": null
    },
    {
      "cell_type": "code",
      "metadata": {
        "ExecuteTime": {
          "end_time": "2025-05-19T23:13:48.918591Z",
          "start_time": "2025-05-19T23:12:12.712177Z"
        },
        "id": "jJI9kLHO1_z-",
        "outputId": "5d8e9814-4a94-4613-e9e6-fdb362b3a9d2",
        "colab": {
          "base_uri": "https://localhost:8080/"
        }
      },
      "source": [
        "# Train models\n",
        "print(\"Training Logistic Regression...\")\n",
        "lr_model = lr_pipeline.fit(train_df)\n",
        "\n",
        "print(\"Training Random Forest...\")\n",
        "rf_model = rf_pipeline.fit(train_df)\n",
        "\n",
        "print(\"Training Naive Bayes...\")\n",
        "nb_model = nb_pipeline.fit(train_df)"
      ],
      "outputs": [
        {
          "output_type": "stream",
          "name": "stdout",
          "text": [
            "Training Logistic Regression...\n",
            "Training Random Forest...\n",
            "Training Naive Bayes...\n"
          ]
        }
      ],
      "execution_count": null
    },
    {
      "cell_type": "code",
      "metadata": {
        "ExecuteTime": {
          "end_time": "2025-05-19T23:14:01.412021Z",
          "start_time": "2025-05-19T23:14:01.390407Z"
        },
        "id": "RMCW_W061_0B"
      },
      "source": [
        "# Function to evaluate model\n",
        "def evaluate_model(model, data, model_name):\n",
        "    predictions = model.transform(data)\n",
        "    evaluator = MulticlassClassificationEvaluator(\n",
        "        labelCol=\"label\", predictionCol=\"prediction\", metricName=\"accuracy\")\n",
        "    accuracy = evaluator.evaluate(predictions)\n",
        "\n",
        "    # Calculate class distribution\n",
        "    class_dist = predictions.groupBy(\"label\").count()\n",
        "    print(f\"\\nClass distribution for {model_name}:\")\n",
        "    class_dist.show()\n",
        "\n",
        "    metrics = {\"accuracy\": accuracy}\n",
        "    print(f\"{model_name} Accuracy: {accuracy}\")\n",
        "\n",
        "    return metrics, predictions"
      ],
      "outputs": [],
      "execution_count": null
    },
    {
      "cell_type": "code",
      "metadata": {
        "ExecuteTime": {
          "end_time": "2025-05-19T23:14:11.796478Z",
          "start_time": "2025-05-19T23:14:05.784735Z"
        },
        "id": "tGxLXRgZ1_0C",
        "outputId": "10c98046-bce8-4cc7-8222-54a16126221d",
        "colab": {
          "base_uri": "https://localhost:8080/"
        }
      },
      "source": [
        "# Evaluate models on validation set\n",
        "lr_metrics, lr_preds = evaluate_model(lr_model, val_df, \"Logistic Regression\")\n",
        "rf_metrics, rf_preds = evaluate_model(rf_model, val_df, \"Random Forest\")\n",
        "nb_metrics, nb_preds = evaluate_model(nb_model, val_df, \"Naive Bayes\")"
      ],
      "outputs": [
        {
          "output_type": "stream",
          "name": "stdout",
          "text": [
            "\n",
            "Class distribution for Logistic Regression:\n",
            "+-----+-----+\n",
            "|label|count|\n",
            "+-----+-----+\n",
            "|  0.0|  210|\n",
            "|  1.0|   75|\n",
            "|  2.0|   41|\n",
            "+-----+-----+\n",
            "\n",
            "Logistic Regression Accuracy: 0.6441717791411042\n",
            "\n",
            "Class distribution for Random Forest:\n",
            "+-----+-----+\n",
            "|label|count|\n",
            "+-----+-----+\n",
            "|  0.0|  210|\n",
            "|  1.0|   75|\n",
            "|  2.0|   41|\n",
            "+-----+-----+\n",
            "\n",
            "Random Forest Accuracy: 0.6441717791411042\n",
            "\n",
            "Class distribution for Naive Bayes:\n",
            "+-----+-----+\n",
            "|label|count|\n",
            "+-----+-----+\n",
            "|  0.0|  210|\n",
            "|  1.0|   75|\n",
            "|  2.0|   41|\n",
            "+-----+-----+\n",
            "\n",
            "Naive Bayes Accuracy: 0.6196319018404908\n"
          ]
        }
      ],
      "execution_count": null
    },
    {
      "cell_type": "code",
      "metadata": {
        "ExecuteTime": {
          "end_time": "2025-05-19T23:16:30.263561Z",
          "start_time": "2025-05-19T23:16:30.240553Z"
        },
        "id": "nBGsO9VT1_0D",
        "outputId": "87e42f88-449b-44bd-b5a3-20a5ea6dcd24",
        "colab": {
          "base_uri": "https://localhost:8080/"
        }
      },
      "source": [
        "# Select best model based on accuracy\n",
        "models = {\n",
        "    \"Logistic Regression\": (lr_metrics[\"accuracy\"], lr_model),\n",
        "    \"Random Forest\": (rf_metrics[\"accuracy\"], rf_model),\n",
        "    \"Naive Bayes\": (nb_metrics[\"accuracy\"], nb_model)\n",
        "}\n",
        "\n",
        "# Initialize variables to track the best model\n",
        "best_model_name = None\n",
        "best_model_accuracy = float('-inf')  # Start with negative infinity to ensure any accuracy is higher\n",
        "best_model = None\n",
        "\n",
        "# Iterate through models to find the one with highest accuracy\n",
        "for name, (accuracy, model) in models.items():\n",
        "    if accuracy > best_model_accuracy:\n",
        "        best_model_name = name\n",
        "        best_model_accuracy = accuracy\n",
        "        best_model = model\n",
        "\n",
        "# Print the result\n",
        "print(f\"Best model: {best_model_name} with accuracy: {best_model_accuracy}\")"
      ],
      "outputs": [
        {
          "output_type": "stream",
          "name": "stdout",
          "text": [
            "Best model: Logistic Regression with accuracy: 0.6441717791411042\n"
          ]
        }
      ],
      "execution_count": null
    },
    {
      "cell_type": "code",
      "metadata": {
        "ExecuteTime": {
          "end_time": "2025-05-19T23:16:55.273234Z",
          "start_time": "2025-05-19T23:16:52.063206Z"
        },
        "id": "Q26gTNOt1_0E",
        "outputId": "739c7a98-c65c-48ee-a929-4da23be0a1a3",
        "colab": {
          "base_uri": "https://localhost:8080/"
        }
      },
      "source": [
        "# Evaluate best model on test set\n",
        "test_metrics, test_preds = evaluate_model(best_model, test_df, f\"Best Model ({best_model_name})\")"
      ],
      "outputs": [
        {
          "output_type": "stream",
          "name": "stdout",
          "text": [
            "\n",
            "Class distribution for Best Model (Logistic Regression):\n",
            "+-----+-----+\n",
            "|label|count|\n",
            "+-----+-----+\n",
            "|  0.0|  184|\n",
            "|  1.0|   77|\n",
            "|  2.0|   33|\n",
            "+-----+-----+\n",
            "\n",
            "Best Model (Logistic Regression) Accuracy: 0.6258503401360545\n"
          ]
        }
      ],
      "execution_count": null
    },
    {
      "cell_type": "code",
      "metadata": {
        "ExecuteTime": {
          "end_time": "2025-05-19T23:17:01.861586Z",
          "start_time": "2025-05-19T23:17:01.336444Z"
        },
        "id": "z8XBlMEw1_0E"
      },
      "source": [
        "# Save the best model\n",
        "best_model.write().overwrite().save(\"models/sentiment_model\")\n",
        "\n",
        "tfidf_stages = best_model.stages[0:4]\n",
        "tfidf_pipeline = Pipeline(stages=tfidf_stages)\n",
        "tfidf_model = tfidf_pipeline.fit(train_df)\n",
        "tfidf_model.write().overwrite().save(\"models/tfidf_model\")"
      ],
      "outputs": [],
      "execution_count": null
    },
    {
      "cell_type": "code",
      "execution_count": null,
      "metadata": {
        "id": "yVke-jRb1_0O",
        "colab": {
          "base_uri": "https://localhost:8080/"
        },
        "outputId": "b452c56e-72ab-4d28-b1fa-275d333e8ebe"
      },
      "outputs": [
        {
          "output_type": "stream",
          "name": "stdout",
          "text": [
            "Model training and evaluation completed!\n"
          ]
        }
      ],
      "source": [
        "# Save processed data\n",
        "train_df.write.mode(\"overwrite\").parquet(\"data/processed/train_data.parquet\")\n",
        "val_df.write.mode(\"overwrite\").parquet(\"data/processed/val_data.parquet\")\n",
        "test_df.write.mode(\"overwrite\").parquet(\"data/processed/test_data.parquet\")\n",
        "\n",
        "print(\"Model training and evaluation completed!\")\n",
        "spark.stop()"
      ]
    },
    {
      "cell_type": "code",
      "source": [
        "spark.stop()"
      ],
      "metadata": {
        "id": "2Ey8BmsG3c6U"
      },
      "execution_count": null,
      "outputs": []
    }
  ],
  "metadata": {
    "kernelspec": {
      "display_name": "Python 3",
      "name": "python3"
    },
    "language_info": {
      "codemirror_mode": {
        "name": "ipython",
        "version": 3
      },
      "file_extension": ".py",
      "mimetype": "text/x-python",
      "name": "python",
      "nbconvert_exporter": "python",
      "pygments_lexer": "ipython3",
      "version": "3.8.0"
    },
    "colab": {
      "provenance": [],
      "gpuType": "V28"
    },
    "accelerator": "TPU"
  },
  "nbformat": 4,
  "nbformat_minor": 0
}